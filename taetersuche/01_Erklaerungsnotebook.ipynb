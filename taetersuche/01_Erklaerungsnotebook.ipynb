{
 "cells": [
  {
   "cell_type": "markdown",
   "metadata": {},
   "source": [
    "# Worum geht es hier?\n",
    "\n",
    "In dieser Unterrichtsreihe wollen wir uns mit __Jupyter Notebooks__ beschäftigen. Diese arbeiten mit der Programmiersprache Python. Jupyter Notebooks sind eine interaktive Entwicklungsumgebung, in der Aufgaben erstellt und die Ergebnisse notiert werden können.\n",
    "\n",
    "Heute beschäftigen wir uns erstmal mit dem Umgang mit Jupyter Notebooks. In den folgenden Unterrichtsstunden soll es um einen Mordfall gehen, den wir mithilfe von Geo-Daten lösen wollen.  Im Anschluss beschäftigen wir uns mit Datenschutz und Datenspeicherung."
   ]
  },
  {
   "cell_type": "markdown",
   "metadata": {},
   "source": [
    "# 1. Einführung in Jupyter Notebooks\n",
    "\n",
    "Die Jupyter Notebooks werden über den Browser ausgeführt und angezeigt. Dort können sie bearbeitet und ergänzt werden."
   ]
  },
  {
   "cell_type": "markdown",
   "metadata": {},
   "source": [
    "## Wo ist was?\n",
    "#### Zellen und Hinzufügen von Zellen\n",
    "<img src=\"Bilder/Hinzufuegen.png\">\n",
    "Ein Pythoncode- oder Textabschnitt wird in einer Zelle zusammengefasst. Neue Zellen können durch Drücken auf dieses Zeichen hinzugefügt werden. Dabei wird die neue Zelle immer hinter die momentan aktive Zelle eingefügt. Die momentan aktive Zelle erkennt man an dem farbigen Rahmen außendrum.\n",
    "\n",
    "#### Typen von Zellen\n",
    "<img src=\"Bilder/Zellentypen.png\">\n",
    "Die Zellen bekommen ein festen Typ. Uns interessieren hier nur \"Code\" und \"Markdown\". In Code muss ein Pythoncode eingegeben werden. Bei Markdown kann ein Text (wie bspw. in dieser Zelle) notiert werden.\n",
    "\n",
    "#### Löschen von Zellen\n",
    "<img src=\"Bilder/Loeschen.png\">\n",
    "Um eine erstellte Zelle zu löschen, kannst du auf das Symbol mit der Schere klicken. Dazu musst du sie vorher ausgewählt haben. Wenn eine Zelle ausgewählt ist, bekommt sie einen farbigen (grün = im Bearbeitungsmodus; blau = ausgeführt) Rahmen.\n",
    "\n",
    "#### Ausführung von Zellen\n",
    "<img src=\"Bilder/Ausfuehrung.png\">\n",
    "Wenn du eine Zelle bearbeitet willst, drückst du mit einem Doppelklick auf die entsprechende Zelle. Um diese wieder auszuführen, drückst du auf diesen \"Run\"-Knopf. Alternativ kannst du auch die Tastenkombination \"Strg+Enter\" verwenden. Um alle Zellen in den Jupyter Notebook auszuführen, klickst du auf den rechten Knopf mit den zwei Dreiecke.\n",
    "\n",
    "#### Lokales Speichern des Notebooks\n",
    "<img src=\"Bilder/Speicherung.png\">\n",
    "Um nun ein Jupyter Notebook zu exportieren, kannst du auf \"Print Review\" klicken. Dann wird eine neue HTML-Seite im Browser in einem neuen Tab erstellt. Diese kannst du dann auch lokal speichern. \n",
    "\n",
    "#### Text verfassen\n",
    "Überschriften werden mit einem Hashtagsymbol eingeleitet. Die Anzahl der Hashtagsymbole bestimmt die Ebene bzw. die Größe der Überschrift.\n",
    "\n",
    "Der Text kann mit __Fett__ (zwei Unterstriche vor und nach der Textpassage) oder _kursiv_ (ein Unterstrich vor und nach der Textpassage) formatiert werden.\n",
    "\n",
    "Eine Aufzählung wird automatisch erzeugt, wenn vor dem jeweiligen Text am Anfang der Zeile ein Spiegelstrich notiert wird (mit Leerzeichen zwischen Strich und Text). Verschiedene Einrückungen können durch Drücken der Tabulator-Taste (Nach rechts durch Tab, Nach links durch Shift+Tab) eingestellt werden und werden automatisch beim Ausführen übernommen."
   ]
  },
  {
   "cell_type": "code",
   "execution_count": null,
   "metadata": {},
   "outputs": [],
   "source": []
  }
 ],
 "metadata": {
  "hide_input": false,
  "kernelspec": {
   "display_name": "Python 3",
   "language": "python",
   "name": "python3"
  },
  "language_info": {
   "codemirror_mode": {
    "name": "ipython",
    "version": 3
   },
   "file_extension": ".py",
   "mimetype": "text/x-python",
   "name": "python",
   "nbconvert_exporter": "python",
   "pygments_lexer": "ipython3",
   "version": "3.8.8"
  }
 },
 "nbformat": 4,
 "nbformat_minor": 2
}

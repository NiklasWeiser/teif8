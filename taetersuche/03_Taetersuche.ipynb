{
 "cells": [
  {
   "cell_type": "markdown",
   "metadata": {
    "hideCode": true,
    "hidePrompt": true,
    "hide_input": true
   },
   "source": [
    "# Tätersuche\n",
    "\n",
    "Bisher habt ihr die Standortdaten der Verdächtigen ausgewertet, den entsprechenden Verdächtigen zugeordnet und Tagesabläufe von ihnen erstellt. In diesem Jupyter Notebook geht es darum, diese Informationen zu nutzen, um herauszufinden, wer __Amanda Weber__ ermordet hat. Dazu bekommt ihr den Tagesablauf des Opfers und einige __Hinweise__, die euch helfen, den Fall zu lösen.\n",
    "\n",
    "<center> <img src=\"Bilder/Taetersuche.jpg\"> </center>"
   ]
  },
  {
   "cell_type": "markdown",
   "metadata": {
    "hideCode": true,
    "hidePrompt": true
   },
   "source": [
    "# Aufgabe 1\n",
    "\n",
    "Es wurden insgesamt __drei Hinweise__ gesammelt, die euch helfen sollen, herauszufinden, wer __Amanda Weber__ ermordet hat. Eure Aufgabe ist es nun, den Täter oder die Täterin zu finden und __überzeugend__ darzulegen, dass diese Person __Amanda Weber__ ermordet hat. Arbeitet dazu zunächst das Jupyter Notebook durch, d.h. löse die __drei Hinweise__ und __identifiziere den Täter__. Notiert bei der Bearbeitung eure Erkenntnisse im Protokoll!\n",
    "\n",
    "__Hinweis - interaktive Karte:__ <br>\n",
    "Unten befindet sich eine __interaktive Karte__. Ihr habt im vorherigen Jupyter Notebook eine __Karte__ erstellt, mit der man den Tagesablauf einer Person sehen konnte. Die interaktive Karte lässt euch zusätzlich zwischen verschiedenen Personen wechseln und sorgt dafür, dass ihr nicht ständig zwischen den Jupyter Notebooks wechseln müsst. Nutzt die __interaktive Karte__, um die benötigten Kartenausschnitte zu finden."
   ]
  },
  {
   "cell_type": "code",
   "execution_count": 1,
   "metadata": {
    "code_folding": [],
    "hideCode": true,
    "hidePrompt": true,
    "hide_input": true,
    "init_cell": true,
    "scrolled": false
   },
   "outputs": [
    {
     "data": {
      "application/vnd.jupyter.widget-view+json": {
       "model_id": "d328bfb1370d47cca8f79e18e4484bb0",
       "version_major": 2,
       "version_minor": 0
      },
      "text/plain": [
       "HBox(children=(Button(description='Person 1 einblenden', layout=Layout(width='20%'), style=ButtonStyle()), But…"
      ]
     },
     "metadata": {},
     "output_type": "display_data"
    },
    {
     "data": {
      "text/html": [
       "<div style=\"width:100%;\"><div style=\"position:relative;width:100%;height:0;padding-bottom:60%;\"><span style=\"color:#565656\">Make this Notebook Trusted to load map: File -> Trust Notebook</span><iframe src=\"about:blank\" style=\"position:absolute;width:100%;height:100%;left:0;top:0;border:none !important;\" data-html=%3C%21DOCTYPE%20html%3E%0A%3Chead%3E%20%20%20%20%0A%20%20%20%20%3Cmeta%20http-equiv%3D%22content-type%22%20content%3D%22text/html%3B%20charset%3DUTF-8%22%20/%3E%0A%20%20%20%20%0A%20%20%20%20%20%20%20%20%3Cscript%3E%0A%20%20%20%20%20%20%20%20%20%20%20%20L_NO_TOUCH%20%3D%20false%3B%0A%20%20%20%20%20%20%20%20%20%20%20%20L_DISABLE_3D%20%3D%20false%3B%0A%20%20%20%20%20%20%20%20%3C/script%3E%0A%20%20%20%20%0A%20%20%20%20%3Cstyle%3Ehtml%2C%20body%20%7Bwidth%3A%20100%25%3Bheight%3A%20100%25%3Bmargin%3A%200%3Bpadding%3A%200%3B%7D%3C/style%3E%0A%20%20%20%20%3Cstyle%3E%23map%20%7Bposition%3Aabsolute%3Btop%3A0%3Bbottom%3A0%3Bright%3A0%3Bleft%3A0%3B%7D%3C/style%3E%0A%20%20%20%20%3Cscript%20src%3D%22https%3A//cdn.jsdelivr.net/npm/leaflet%401.6.0/dist/leaflet.js%22%3E%3C/script%3E%0A%20%20%20%20%3Cscript%20src%3D%22https%3A//code.jquery.com/jquery-1.12.4.min.js%22%3E%3C/script%3E%0A%20%20%20%20%3Cscript%20src%3D%22https%3A//maxcdn.bootstrapcdn.com/bootstrap/3.2.0/js/bootstrap.min.js%22%3E%3C/script%3E%0A%20%20%20%20%3Cscript%20src%3D%22https%3A//cdnjs.cloudflare.com/ajax/libs/Leaflet.awesome-markers/2.0.2/leaflet.awesome-markers.js%22%3E%3C/script%3E%0A%20%20%20%20%3Clink%20rel%3D%22stylesheet%22%20href%3D%22https%3A//cdn.jsdelivr.net/npm/leaflet%401.6.0/dist/leaflet.css%22/%3E%0A%20%20%20%20%3Clink%20rel%3D%22stylesheet%22%20href%3D%22https%3A//maxcdn.bootstrapcdn.com/bootstrap/3.2.0/css/bootstrap.min.css%22/%3E%0A%20%20%20%20%3Clink%20rel%3D%22stylesheet%22%20href%3D%22https%3A//maxcdn.bootstrapcdn.com/bootstrap/3.2.0/css/bootstrap-theme.min.css%22/%3E%0A%20%20%20%20%3Clink%20rel%3D%22stylesheet%22%20href%3D%22https%3A//maxcdn.bootstrapcdn.com/font-awesome/4.6.3/css/font-awesome.min.css%22/%3E%0A%20%20%20%20%3Clink%20rel%3D%22stylesheet%22%20href%3D%22https%3A//cdnjs.cloudflare.com/ajax/libs/Leaflet.awesome-markers/2.0.2/leaflet.awesome-markers.css%22/%3E%0A%20%20%20%20%3Clink%20rel%3D%22stylesheet%22%20href%3D%22https%3A//cdn.jsdelivr.net/gh/python-visualization/folium/folium/templates/leaflet.awesome.rotate.min.css%22/%3E%0A%20%20%20%20%0A%20%20%20%20%20%20%20%20%20%20%20%20%3Cmeta%20name%3D%22viewport%22%20content%3D%22width%3Ddevice-width%2C%0A%20%20%20%20%20%20%20%20%20%20%20%20%20%20%20%20initial-scale%3D1.0%2C%20maximum-scale%3D1.0%2C%20user-scalable%3Dno%22%20/%3E%0A%20%20%20%20%20%20%20%20%20%20%20%20%3Cstyle%3E%0A%20%20%20%20%20%20%20%20%20%20%20%20%20%20%20%20%23map_7a2d57d8bccd42e1a07f64f482138d37%20%7B%0A%20%20%20%20%20%20%20%20%20%20%20%20%20%20%20%20%20%20%20%20position%3A%20relative%3B%0A%20%20%20%20%20%20%20%20%20%20%20%20%20%20%20%20%20%20%20%20width%3A%20100.0%25%3B%0A%20%20%20%20%20%20%20%20%20%20%20%20%20%20%20%20%20%20%20%20height%3A%20100.0%25%3B%0A%20%20%20%20%20%20%20%20%20%20%20%20%20%20%20%20%20%20%20%20left%3A%200.0%25%3B%0A%20%20%20%20%20%20%20%20%20%20%20%20%20%20%20%20%20%20%20%20top%3A%200.0%25%3B%0A%20%20%20%20%20%20%20%20%20%20%20%20%20%20%20%20%7D%0A%20%20%20%20%20%20%20%20%20%20%20%20%3C/style%3E%0A%20%20%20%20%20%20%20%20%0A%3C/head%3E%0A%3Cbody%3E%20%20%20%20%0A%20%20%20%20%0A%20%20%20%20%20%20%20%20%20%20%20%20%3Cdiv%20class%3D%22folium-map%22%20id%3D%22map_7a2d57d8bccd42e1a07f64f482138d37%22%20%3E%3C/div%3E%0A%20%20%20%20%20%20%20%20%0A%3C/body%3E%0A%3Cscript%3E%20%20%20%20%0A%20%20%20%20%0A%20%20%20%20%20%20%20%20%20%20%20%20var%20map_7a2d57d8bccd42e1a07f64f482138d37%20%3D%20L.map%28%0A%20%20%20%20%20%20%20%20%20%20%20%20%20%20%20%20%22map_7a2d57d8bccd42e1a07f64f482138d37%22%2C%0A%20%20%20%20%20%20%20%20%20%20%20%20%20%20%20%20%7B%0A%20%20%20%20%20%20%20%20%20%20%20%20%20%20%20%20%20%20%20%20center%3A%20%5B51.7131604%2C%208.73%5D%2C%0A%20%20%20%20%20%20%20%20%20%20%20%20%20%20%20%20%20%20%20%20crs%3A%20L.CRS.EPSG3857%2C%0A%20%20%20%20%20%20%20%20%20%20%20%20%20%20%20%20%20%20%20%20zoom%3A%2010%2C%0A%20%20%20%20%20%20%20%20%20%20%20%20%20%20%20%20%20%20%20%20zoomControl%3A%20true%2C%0A%20%20%20%20%20%20%20%20%20%20%20%20%20%20%20%20%20%20%20%20preferCanvas%3A%20false%2C%0A%20%20%20%20%20%20%20%20%20%20%20%20%20%20%20%20%7D%0A%20%20%20%20%20%20%20%20%20%20%20%20%29%3B%0A%0A%20%20%20%20%20%20%20%20%20%20%20%20%0A%0A%20%20%20%20%20%20%20%20%0A%20%20%20%20%0A%20%20%20%20%20%20%20%20%20%20%20%20var%20tile_layer_a3f7bee5cf04435694f7918f0a80936c%20%3D%20L.tileLayer%28%0A%20%20%20%20%20%20%20%20%20%20%20%20%20%20%20%20%22https%3A//%7Bs%7D.tile.openstreetmap.org/%7Bz%7D/%7Bx%7D/%7By%7D.png%22%2C%0A%20%20%20%20%20%20%20%20%20%20%20%20%20%20%20%20%7B%22attribution%22%3A%20%22Data%20by%20%5Cu0026copy%3B%20%5Cu003ca%20href%3D%5C%22http%3A//openstreetmap.org%5C%22%5Cu003eOpenStreetMap%5Cu003c/a%5Cu003e%2C%20under%20%5Cu003ca%20href%3D%5C%22http%3A//www.openstreetmap.org/copyright%5C%22%5Cu003eODbL%5Cu003c/a%5Cu003e.%22%2C%20%22detectRetina%22%3A%20false%2C%20%22maxNativeZoom%22%3A%2018%2C%20%22maxZoom%22%3A%2018%2C%20%22minZoom%22%3A%200%2C%20%22noWrap%22%3A%20false%2C%20%22opacity%22%3A%201%2C%20%22subdomains%22%3A%20%22abc%22%2C%20%22tms%22%3A%20false%7D%0A%20%20%20%20%20%20%20%20%20%20%20%20%29.addTo%28map_7a2d57d8bccd42e1a07f64f482138d37%29%3B%0A%20%20%20%20%20%20%20%20%0A%3C/script%3E onload=\"this.contentDocument.open();this.contentDocument.write(    decodeURIComponent(this.getAttribute('data-html')));this.contentDocument.close();\" allowfullscreen webkitallowfullscreen mozallowfullscreen></iframe></div></div>"
      ],
      "text/plain": [
       "<Karte.Karte at 0x1ba293ac070>"
      ]
     },
     "execution_count": 1,
     "metadata": {},
     "output_type": "execute_result"
    }
   ],
   "source": [
    "from Daten import *\n",
    "from Standort import *\n",
    "from Karte import *\n",
    "from ipywidgets import Button, Layout, HBox, Text, VBox\n",
    "from IPython.display import display\n",
    "import IPython\n",
    "\n",
    "datensatz1 = Daten('Standortdaten/Person1.csv')\n",
    "datensatz2 = Daten('Standortdaten/Person2.csv')\n",
    "datensatz3 = Daten('Standortdaten/Person3.csv')\n",
    "datensatz4 = Daten('Standortdaten/Person4.csv')\n",
    "datensatz5 = Daten('Standortdaten/Person5.csv')\n",
    "datensatzOpfer = Daten('Standortdaten/Opfer.csv')\n",
    "\n",
    "person1 = Button(description = 'Person 1 einblenden', layout = Layout(width='20%'))\n",
    "person2 = Button(description = 'Person 2 einblenden', layout = Layout(width='20%'))\n",
    "person3 = Button(description = 'Person 3 einblenden', layout = Layout(width='20%'))\n",
    "person4 = Button(description = 'Person 4 einblenden', layout = Layout(width='20%'))\n",
    "person5 = Button(description = 'Person 5 einblenden', layout = Layout(width='20%'))\n",
    "\n",
    "meineKarte = Karte(datensatzOpfer.daten[0].gibKoordinaten())\n",
    "\n",
    "global zaehlerPerson1\n",
    "zaehlerPerson1 = 0\n",
    "global zaehlerPerson2\n",
    "zaehlerPerson2 = 0\n",
    "global zaehlerPerson3\n",
    "zaehlerPerson3 = 0\n",
    "global zaehlerPerson4\n",
    "zaehlerPerson4 = 0\n",
    "global zaehlerPerson5\n",
    "zaehlerPerson5 = 0\n",
    "\n",
    "def person1Geklickt(b):\n",
    "    global zaehlerPerson1\n",
    "    global zaehlerPerson2\n",
    "    global zaehlerPerson3\n",
    "    global zaehlerPerson4\n",
    "    global zaehlerPerson5\n",
    "    \n",
    "    if(zaehlerPerson1==0):\n",
    "        IPython.display.clear_output(wait = False)\n",
    "        display(HBox([person1,person2,person3,person4,person5]))\n",
    "        meineKarte=Karte(datensatzOpfer.daten[0].gibKoordinaten())\n",
    "        meineKarte.zeichneStandorteEin(datensatz1, 'gray')\n",
    "        meineKarte.verbindeAlleStandorte(datensatz1)\n",
    "        meineKarte.verbindeAlleStandorte(datensatzOpfer, pFarbe = 'red')\n",
    "        meineKarte.zeichneStandorteEin(datensatzOpfer, 'red')\n",
    "        print(\"In rot sind die Standorte des Opfers eingezeichnet, in Grau die Standorte der Person 1.\")\n",
    "        display(meineKarte)\n",
    "        zaehlerPerson1=1\n",
    "        zaehlerPerson2=0\n",
    "        zaehlerPerson3=0\n",
    "        zaehlerPerson4=0\n",
    "        zaehlerPerson5=0\n",
    "\n",
    "def person2Geklickt(b):\n",
    "    global zaehlerPerson1\n",
    "    global zaehlerPerson2\n",
    "    global zaehlerPerson3\n",
    "    global zaehlerPerson4\n",
    "    global zaehlerPerson5\n",
    "    \n",
    "    if(zaehlerPerson2==0):\n",
    "        IPython.display.clear_output(wait = False)\n",
    "        display(HBox([person1,person2,person3,person4,person5]))\n",
    "        meineKarte=Karte(datensatzOpfer.daten[0].gibKoordinaten())\n",
    "        meineKarte.zeichneStandorteEin(datensatz2, 'gray')\n",
    "        meineKarte.verbindeAlleStandorte(datensatz2)\n",
    "        meineKarte.verbindeAlleStandorte(datensatzOpfer, pFarbe = 'red')\n",
    "        meineKarte.zeichneStandorteEin(datensatzOpfer, 'red')\n",
    "        print(\"In rot sind die Standorte des Opfers eingezeichnet, in Grau die Standorte der Person 2.\")\n",
    "        display(meineKarte)\n",
    "        zaehlerPerson1=0\n",
    "        zaehlerPerson2=1\n",
    "        zaehlerPerson3=0\n",
    "        zaehlerPerson4=0\n",
    "        zaehlerPerson5=0\n",
    "\n",
    "def person3Geklickt(b):\n",
    "    global zaehlerPerson1\n",
    "    global zaehlerPerson2\n",
    "    global zaehlerPerson3\n",
    "    global zaehlerPerson4\n",
    "    global zaehlerPerson5\n",
    "    \n",
    "    if(zaehlerPerson3==0):\n",
    "        IPython.display.clear_output(wait = False)\n",
    "        display(HBox([person1,person2,person3,person4,person5]))\n",
    "        meineKarte=Karte(datensatzOpfer.daten[0].gibKoordinaten())\n",
    "        meineKarte.zeichneStandorteEin(datensatz3, 'gray')\n",
    "        meineKarte.verbindeAlleStandorte(datensatz3)\n",
    "        meineKarte.verbindeAlleStandorte(datensatzOpfer, pFarbe = 'red')\n",
    "        meineKarte.zeichneStandorteEin(datensatzOpfer, 'red')\n",
    "        print(\"In rot sind die Standorte des Opfers eingezeichnet, in Grau die Standorte der Person 3.\")\n",
    "        display(meineKarte)\n",
    "        zaehlerPerson1=0\n",
    "        zaehlerPerson2=0\n",
    "        zaehlerPerson3=1\n",
    "        zaehlerPerson4=0\n",
    "        zaehlerPerson5=0\n",
    "\n",
    "def person4Geklickt(b):\n",
    "    global zaehlerPerson1\n",
    "    global zaehlerPerson2\n",
    "    global zaehlerPerson3\n",
    "    global zaehlerPerson4\n",
    "    global zaehlerPerson5\n",
    "    \n",
    "    if(zaehlerPerson4==0):\n",
    "        IPython.display.clear_output(wait = False)\n",
    "        display(HBox([person1,person2,person3,person4,person5]))\n",
    "        meineKarte=Karte(datensatzOpfer.daten[0].gibKoordinaten())\n",
    "        meineKarte.zeichneStandorteEin(datensatz4, 'gray')\n",
    "        meineKarte.verbindeAlleStandorte(datensatz4)\n",
    "        meineKarte.verbindeAlleStandorte(datensatzOpfer, pFarbe = 'red')\n",
    "        meineKarte.zeichneStandorteEin(datensatzOpfer, 'red')\n",
    "        print(\"In rot sind die Standorte des Opfers eingezeichnet, in Grau die Standorte der Person 4.\")\n",
    "        display(meineKarte)\n",
    "        zaehlerPerson1=0\n",
    "        zaehlerPerson2=0\n",
    "        zaehlerPerson3=0\n",
    "        zaehlerPerson4=1\n",
    "        zaehlerPerson5=0\n",
    "\n",
    "def person5Geklickt(b):\n",
    "    global zaehlerPerson1\n",
    "    global zaehlerPerson2\n",
    "    global zaehlerPerson3\n",
    "    global zaehlerPerson4\n",
    "    global zaehlerPerson5\n",
    "    \n",
    "    if(zaehlerPerson5==0):\n",
    "        IPython.display.clear_output(wait = False)\n",
    "        display(HBox([person1,person2,person3,person4,person5]))\n",
    "        meineKarte=Karte(datensatzOpfer.daten[0].gibKoordinaten())\n",
    "        meineKarte.zeichneStandorteEin(datensatz5, 'gray')\n",
    "        meineKarte.verbindeAlleStandorte(datensatz5)\n",
    "        meineKarte.verbindeAlleStandorte(datensatzOpfer, pFarbe = 'red')\n",
    "        meineKarte.zeichneStandorteEin(datensatzOpfer, 'red')\n",
    "        print(\"In rot sind die Standorte des Opfers eingezeichnet, in Grau die Standorte der Person 5.\")\n",
    "        display(meineKarte)\n",
    "        zaehlerPerson1=0\n",
    "        zaehlerPerson2=0\n",
    "        zaehlerPerson3=0\n",
    "        zaehlerPerson4=0\n",
    "        zaehlerPerson5=1\n",
    "\n",
    "\n",
    "\n",
    "person1.on_click(person1Geklickt)\n",
    "person2.on_click(person2Geklickt)\n",
    "person3.on_click(person3Geklickt)\n",
    "person4.on_click(person4Geklickt)\n",
    "person5.on_click(person5Geklickt)\n",
    "display(HBox([person1,person2,person3,person4,person5]))\n",
    "\n",
    "meineKarte"
   ]
  },
  {
   "cell_type": "markdown",
   "metadata": {
    "hideCode": true,
    "hidePrompt": true,
    "hide_input": false
   },
   "source": [
    "# Hinweis 1 - Obduktion des Opfers\n",
    "\n",
    "Bei der Untersuchung eines Mordfalls ist üblicherweise der erste Schritt, eine Obduktion des Opfers durchzuführen. Bei der Obduktion von __Amanda Weber__ ist folgendes festgestellt worden: \n",
    "\n",
    "<i>__Amanda Weber__ wurde am 12.10.2018 zwischen 19:15 und 19:25 mit einem Messer erstochen. Auf der Kleidung des Opfers konnten keine Hautpartikel oder Fingerabdrücke gefunden werden. Anhand der Einschnittswunde konnte festgestellt werden, dass das gesuchte Messer in der Woche vom 08.10.2018 bis zum 12.10.2018 im __Lidl__ in der Nähe des Hauptbahnhofs gekauft wurde. </i>\n",
    "\n",
    "<center> <img src=\"Bilder/messer.jpg\"> </center>\n",
    "\n",
    "## Schlussfolgerungen Hinweis 1\n",
    "\n",
    "Durch den __ersten Hinweis__ konnte eine Person ausgeschlossen werden. Von den verbliebenden Verdächtigen wurden Zeugenaussagen aufgenommen. Die Zeugenaussagen sind der __zweite Hinweis__. Damit ihr euch den zweiten Hinweis anschauen könnt, müsst ihr den Namen der Person, die ihr ausschließen konntet in das untenstehende Textfeld eintragen. Klickt anschließend auf den Button __Hinweis anzeigen__. \n",
    "\n",
    "__Hinweis:__ Ihr habt nur einen Versuch!"
   ]
  },
  {
   "cell_type": "code",
   "execution_count": 3,
   "metadata": {
    "hideCode": true,
    "hidePrompt": true,
    "hide_input": false,
    "init_cell": true,
    "scrolled": true
   },
   "outputs": [
    {
     "data": {
      "text/markdown": [
       "# Hinweis 2 - Verbindungen zum Opfer\n",
       "\n",
       "Nachdem __Tobias Page__ als Täter nicht in Frage kommt, wurden die verbliebenden Verdächtigen ins Polizeirevier eingeladen, um eine Zeugenaussage zu machen. Die Verdächtigen wurden darauf angesprochen, dass sie zum Tatzeitpunkt in der Nähe des Hauptbahnhofs waren und dass sie die Möglichkeit hatten, die Tatwaffe im __Lidl__ in der Nähe des Hauptbahnhofs zu erwerben. Hier sind die Aussagen der Verdächtigen:\n",
       "\n",
       "__Hannes Kemp:__ <br>\n",
       "<i>Es ist nicht ungewöhnlich, dass ich in der Nähe des Hauptbahnhofs bin. Ich bin sehr häufig dort, um Passanten nach Geld zu fragen oder mir in der Schenke im Hauptbahnhof ein paar Bierchen zu trinken. Es stimmt zwar, dass ich im Lidl war, allerdings frage ich mich, was ich mit einem Messer soll? Ich war im Lidl, um Pfand wegzubringen und Bierdosen zu kaufen.</i>\n",
       "\n",
       "__Udo Holland:__ <br>\n",
       "<i>Ich war kurz am Hauptbahnhof, um mir bei Mc'Donalds etwas zu essen zu holen. Ich wüsste nicht, wieso das verwerflich ist. Ich wohne in der Nähe des Lidl's und gehe dort regelmäßig einkaufen. Ich denke, dass ich da nicht der einzige bin, es könnten also tausende Menschen dieses Messer dort gekauft haben.</i>\n",
       "\n",
       "__Jessica Anderson:__ <br>\n",
       "<i>Da ich Kundin bei der Sparda-Bank bin, halte ich mich häufig in der Nähe des Hauptbahnhofs auf. Ich arbeite im Lidl in der Nähe des Hauptbahnhofs, aber ich habe in dieser Woche kein neues Messer gekauft. Glauben Sie mir, ich weiß, woher die Messer kommen und welche Qualität sie haben.</i>\n",
       "\n",
       "__Gerald Walker:__ <br>\n",
       "<i>Als Vertreter verschiedener Immobilienbüros verbringe ich eine große Zeit an Bahnhöfen, weshalb ich auch an diesem Abend am Hauptbahnhof in Paderborn war. Ich war etwas in Eile, da ich den Zug beinahe verpasst hätte. Ich habe morgens im Lidl mein Mittagessen für den Tag gekauft, da ich wusste, dass ich ein längeres Meeting habe.</i>\n",
       "\n",
       "## Zusammenfassung der Zeugenaussagen\n",
       "\n",
       "Die verbliebenden Verdächtigen haben erklärt, warum sie im Lidl und in der Nähe des Hauptbahnhofs waren. Als Ermittler stellt sich die Frage, ob man Ihnen glauben kann. Um einen Mordfall aufzuklären, muss man auch die Verbindungen zwischen dem Opfer und den Verdächtigen untersuchen. Schaut euch die Karte nochmal an und untersucht dabei folgende Aspekte:\n",
       "\n",
       "- Sind die Zeugenaussagen plausibel?\n",
       "- Gab es Verbindungen zwischen den Verdächtigen und dem Opfer?"
      ],
      "text/plain": [
       "<IPython.core.display.Markdown object>"
      ]
     },
     "metadata": {},
     "output_type": "display_data"
    }
   ],
   "source": [
    "textfeld = Text(value = '', placeholder = 'Trage den Namen der Person ein!', layout = Layout(width='50%'))\n",
    "button = Button(description = 'Hinweis 2 anzeigen', layout = Layout(width='50%'))\n",
    "\n",
    "global hinweisEins\n",
    "hinweisEins = False\n",
    "    \n",
    "def button_geklickt(b):\n",
    "    global hinweisEins\n",
    "    with open('Textdateien/Taetersuche/hinweis2neu.txt', 'r', encoding='UTF-8') as neuerHinweis:\n",
    "        hinweisZwei = neuerHinweis.read()\n",
    "        pass\n",
    "    \n",
    "    if(textfeld.value == 'Tobias Page'):\n",
    "        IPython.display.clear_output(wait = False)\n",
    "        display(IPython.display.Markdown(hinweisZwei))\n",
    "        hinweisEins = True\n",
    "    else:\n",
    "        IPython.display.clear_output(wait = False)\n",
    "        print('Das war leider falsch oder ihr habt geraten! Schaut euch die Karte nochmal genau an und meldet euch beim Lehrer!')\n",
    "        pass\n",
    "    pass\n",
    "\n",
    "button.on_click(button_geklickt)\n",
    "    \n",
    "HBox([button, textfeld])"
   ]
  },
  {
   "cell_type": "markdown",
   "metadata": {
    "hideCode": true,
    "hidePrompt": true,
    "hide_input": false
   },
   "source": [
    "## Schlussfolgerungen Hinweis 2\n",
    "\n",
    "Der __zweite Hinweis__ hat dafür gesorgt, dass eine weitere Person aus dem Verdächtigenkreis gestrichen werden kann. Kurz nachdem der __zweite Hinweis__ bearbeitet wurde, hat die Polizei eine sehr interessante Entdeckung gemacht. Im __dritten Hinweis__ geht es um diese Entdeckung. Um den __dritten Hinweis__ zu erhalten, müsst ihr erneut den Namen der Person eintragen, die durch den __zweiten Hinweis__ ausgeschlossen werden konnte."
   ]
  },
  {
   "cell_type": "code",
   "execution_count": 5,
   "metadata": {
    "hideCode": true,
    "hidePrompt": true,
    "hide_input": false,
    "init_cell": true
   },
   "outputs": [
    {
     "data": {
      "text/markdown": [
       "# Hinweis 3 - Fundort der Tatwaffe\n",
       "\n",
       "Bei der Obduktion des Opfers konnte bereits festgestellt werden, dass die Tatwaffe ein __Messer__ ist und im __Lidl__ in der Nähe des Hauptbahnhofs gekauft wurde. Jetzt konnte die Tatwaffe gefunden werden. Ein Passant, der gerade im __Riemekepark__ joggen war, sah ein blutverschmiertes Messer und rief direkt die Polizei an.\n",
       "\n",
       "Die Untersuchung der Tatwaffe lieferte keine neuen Hinweise. Es konnten keine Fingerabdrücke sichergestellt werden. Das bedeutet, dass der Täter oder die Täterin Handschuhe getragen hat, um keine Fingerabdrücke zu hinterlassen. Schaut euch die Karte nochmal an und untersucht folgende Aspekte:\n",
       "\n",
       "- Wer war häufig in der Nähe des Riemekeparks unterwegs? Was hat die Person dort gemacht?\n",
       "- Wer war nach der Tatzeit im Riemekepark?"
      ],
      "text/plain": [
       "<IPython.core.display.Markdown object>"
      ]
     },
     "metadata": {},
     "output_type": "display_data"
    }
   ],
   "source": [
    "textfeld2 = Text(value = '', placeholder = 'Trage den Namen der Person ein!', layout = Layout(width='50%'))\n",
    "button2 = Button(description = 'Hinweis 3 anzeigen', layout = Layout(width='50%'))\n",
    "\n",
    "global hinweisZwei\n",
    "hinweisZwei = False\n",
    "\n",
    "def button2_geklickt(b):\n",
    "    global hinweisEins\n",
    "    global hinweisZwei\n",
    "    \n",
    "    with open('Textdateien/Taetersuche/hinweis3.txt', 'r', encoding='UTF-8') as neuerHinweis:\n",
    "        hinweisDrei = neuerHinweis.read()\n",
    "        pass\n",
    "    \n",
    "    if(textfeld2.value == 'Gerald Walker' and hinweisEins):\n",
    "        IPython.display.clear_output(wait = False)\n",
    "        hinweisZwei = True\n",
    "        display(IPython.display.Markdown(hinweisDrei))\n",
    "        pass\n",
    "    elif(not hinweisEins):\n",
    "        print('Ihr müsst zunächst den ersten Hinweis bearbeiten.')\n",
    "        pass\n",
    "    else:\n",
    "        IPython.display.clear_output(wait = False)\n",
    "        print('Das war leider falsch oder ihr habt geraten! Schaut euch die Karte nochmal genau an und meldet euch beim Lehrer!')\n",
    "        pass\n",
    "    pass\n",
    "\n",
    "button2.on_click(button2_geklickt)\n",
    "\n",
    "HBox([button2, textfeld2])"
   ]
  },
  {
   "cell_type": "markdown",
   "metadata": {
    "hideCode": true,
    "hidePrompt": true
   },
   "source": [
    "## Schlussfolgerung Hinweis 3\n",
    "\n",
    "Bei genauer Untersuchung des Fundortes der Tatwaffe kann festgestellt werden, dass sich __eine Person__ nach der Tatzeit nicht im __Riemekepark__ aufgehalten hat. Diese Person kann somit ebenfalls als Täter oder Täterin ausgeschlossen werden. Trage den Namen der Person unten in das Textfeld ein und klicke auf den Button __Abschlussbefragung anzeigen__, um die abschließenden Zeugenaussagen der verbliebenden Verdächtigen zu erhalten."
   ]
  },
  {
   "cell_type": "code",
   "execution_count": 8,
   "metadata": {
    "hideCode": true,
    "hidePrompt": true,
    "hide_input": false,
    "init_cell": true,
    "scrolled": false
   },
   "outputs": [
    {
     "data": {
      "application/vnd.jupyter.widget-view+json": {
       "model_id": "fbeb1d97dc26422f90bcfbb71a45b93b",
       "version_major": 2,
       "version_minor": 0
      },
      "text/plain": [
       "HBox(children=(Button(description='Abschlussbefragungen anzeigen', layout=Layout(width='50%'), style=ButtonSty…"
      ]
     },
     "metadata": {},
     "output_type": "display_data"
    }
   ],
   "source": [
    "textfeld3 = Text(value = '', placeholder = 'Trage den Namen der Person ein!', layout = Layout(width='50%'))\n",
    "button3 = Button(description = 'Abschlussbefragungen anzeigen', layout = Layout(width='50%'))\n",
    "\n",
    "def button3_geklickt(b):\n",
    "    global hinweisZwei\n",
    "    \n",
    "    with open('Textdateien/Taetersuche/abschlussbefragung.txt', 'r', encoding='UTF-8') as neuerHinweis:\n",
    "        abschlussbefragung = neuerHinweis.read()\n",
    "        pass\n",
    "    \n",
    "    if(textfeld3.value == 'Hannes Kemp' and hinweisZwei):\n",
    "        IPython.display.clear_output(wait = False)\n",
    "        display(IPython.display.Markdown(abschlussbefragung))\n",
    "        pass\n",
    "    elif(not hinweisZwei):\n",
    "        print('Ihr müsst zunächst die vorherigen Hinweise bearbeiten.')\n",
    "        pass\n",
    "    else:\n",
    "        IPython.display.clear_output(wait = False)\n",
    "        print('Das war leider falsch oder ihr habt geraten! Schaut euch die Karte nochmal genau an und meldet euch beim Lehrer!')\n",
    "        pass\n",
    "    pass\n",
    "\n",
    "button3.on_click(button3_geklickt)\n",
    "\n",
    "HBox([button3, textfeld3])"
   ]
  },
  {
   "cell_type": "markdown",
   "metadata": {
    "hideCode": true,
    "hidePrompt": true
   },
   "source": [
    "# Aufgabe 2\n",
    "\n",
    "Füllt das Arbeitsblatt mit dem Protokoll zuende aus und entscheidet euch für den Täter. Achtet dabei darauf, dass eure Begründungen nachvollziehbar und vollständig sind. "
   ]
  }
 ],
 "metadata": {
  "hide_code_all_hidden": true,
  "hide_input": true,
  "kernelspec": {
   "display_name": "Python 3",
   "language": "python",
   "name": "python3"
  },
  "language_info": {
   "codemirror_mode": {
    "name": "ipython",
    "version": 3
   },
   "file_extension": ".py",
   "mimetype": "text/x-python",
   "name": "python",
   "nbconvert_exporter": "python",
   "pygments_lexer": "ipython3",
   "version": "3.8.8"
  },
  "latex_envs": {
   "LaTeX_envs_menu_present": true,
   "autoclose": true,
   "autocomplete": true,
   "bibliofile": "biblio.bib",
   "cite_by": "apalike",
   "current_citInitial": 1,
   "eqLabelWithNumbers": true,
   "eqNumInitial": 1,
   "hotkeys": {
    "equation": "Ctrl-E",
    "itemize": "Ctrl-I"
   },
   "labels_anchors": false,
   "latex_user_defs": false,
   "report_style_numbering": true,
   "user_envs_cfg": false
  },
  "toc": {
   "base_numbering": 1,
   "nav_menu": {},
   "number_sections": false,
   "sideBar": true,
   "skip_h1_title": false,
   "title_cell": "Table of Contents",
   "title_sidebar": "Contents",
   "toc_cell": false,
   "toc_position": {
    "height": "calc(100% - 180px)",
    "left": "10px",
    "top": "150px",
    "width": "338px"
   },
   "toc_section_display": true,
   "toc_window_display": false
  }
 },
 "nbformat": 4,
 "nbformat_minor": 2
}
